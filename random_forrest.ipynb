{
 "cells": [
  {
   "cell_type": "code",
   "execution_count": 1,
   "metadata": {},
   "outputs": [],
   "source": [
    "import pandas as pd\n",
    "import seaborn as sns\n",
    "import matplotlib.pyplot as plt\n",
    "\n",
    "from sklearn.ensemble import RandomForestClassifier\n",
    "from sklearn.model_selection import train_test_split\n",
    "from sklearn.metrics import classification_report, confusion_matrix, accuracy_score\n",
    "# from sklearn.model_selection import GridSearchCV\n",
    "# from sklearn.model_selection import cross_val_score"
   ]
  },
  {
   "cell_type": "code",
   "execution_count": 2,
   "metadata": {},
   "outputs": [],
   "source": [
    "df_target = pd.read_csv(\"lucas_organic_carbon_target.csv\")\n",
    "df_test = pd.read_csv(\"lucas_organic_carbon_training_and_test_data.csv\")"
   ]
  },
  {
   "cell_type": "markdown",
   "metadata": {},
   "source": [
    "# Ü1"
   ]
  },
  {
   "cell_type": "code",
   "execution_count": 3,
   "metadata": {},
   "outputs": [
    {
     "data": {
      "text/html": [
       "<div>\n",
       "<style scoped>\n",
       "    .dataframe tbody tr th:only-of-type {\n",
       "        vertical-align: middle;\n",
       "    }\n",
       "\n",
       "    .dataframe tbody tr th {\n",
       "        vertical-align: top;\n",
       "    }\n",
       "\n",
       "    .dataframe thead th {\n",
       "        text-align: right;\n",
       "    }\n",
       "</style>\n",
       "<table border=\"1\" class=\"dataframe\">\n",
       "  <thead>\n",
       "    <tr style=\"text-align: right;\">\n",
       "      <th></th>\n",
       "      <th>x</th>\n",
       "    </tr>\n",
       "  </thead>\n",
       "  <tbody>\n",
       "    <tr>\n",
       "      <th>0</th>\n",
       "      <td>very_low</td>\n",
       "    </tr>\n",
       "    <tr>\n",
       "      <th>1</th>\n",
       "      <td>very_low</td>\n",
       "    </tr>\n",
       "    <tr>\n",
       "      <th>2</th>\n",
       "      <td>very_low</td>\n",
       "    </tr>\n",
       "    <tr>\n",
       "      <th>3</th>\n",
       "      <td>moderate</td>\n",
       "    </tr>\n",
       "    <tr>\n",
       "      <th>4</th>\n",
       "      <td>low</td>\n",
       "    </tr>\n",
       "  </tbody>\n",
       "</table>\n",
       "</div>"
      ],
      "text/plain": [
       "          x\n",
       "0  very_low\n",
       "1  very_low\n",
       "2  very_low\n",
       "3  moderate\n",
       "4       low"
      ]
     },
     "execution_count": 3,
     "metadata": {},
     "output_type": "execute_result"
    }
   ],
   "source": [
    "df_target.head()"
   ]
  },
  {
   "cell_type": "code",
   "execution_count": 4,
   "metadata": {},
   "outputs": [
    {
     "data": {
      "text/html": [
       "<div>\n",
       "<style scoped>\n",
       "    .dataframe tbody tr th:only-of-type {\n",
       "        vertical-align: middle;\n",
       "    }\n",
       "\n",
       "    .dataframe tbody tr th {\n",
       "        vertical-align: top;\n",
       "    }\n",
       "\n",
       "    .dataframe thead th {\n",
       "        text-align: right;\n",
       "    }\n",
       "</style>\n",
       "<table border=\"1\" class=\"dataframe\">\n",
       "  <thead>\n",
       "    <tr style=\"text-align: right;\">\n",
       "      <th></th>\n",
       "      <th>500.0</th>\n",
       "      <th>500.5</th>\n",
       "      <th>501.0</th>\n",
       "      <th>501.5</th>\n",
       "      <th>502.0</th>\n",
       "      <th>502.5</th>\n",
       "      <th>503.0</th>\n",
       "      <th>503.5</th>\n",
       "      <th>504.0</th>\n",
       "      <th>504.5</th>\n",
       "      <th>...</th>\n",
       "      <th>2495.0</th>\n",
       "      <th>2495.5</th>\n",
       "      <th>2496.0</th>\n",
       "      <th>2496.5</th>\n",
       "      <th>2497.0</th>\n",
       "      <th>2497.5</th>\n",
       "      <th>2498.0</th>\n",
       "      <th>2498.5</th>\n",
       "      <th>2499.0</th>\n",
       "      <th>2499.5</th>\n",
       "    </tr>\n",
       "  </thead>\n",
       "  <tbody>\n",
       "    <tr>\n",
       "      <th>0</th>\n",
       "      <td>0.000276</td>\n",
       "      <td>0.000278</td>\n",
       "      <td>0.000280</td>\n",
       "      <td>0.000281</td>\n",
       "      <td>0.000283</td>\n",
       "      <td>0.000284</td>\n",
       "      <td>0.000286</td>\n",
       "      <td>0.000288</td>\n",
       "      <td>0.000289</td>\n",
       "      <td>0.000291</td>\n",
       "      <td>...</td>\n",
       "      <td>-0.000070</td>\n",
       "      <td>-0.000068</td>\n",
       "      <td>-0.000065</td>\n",
       "      <td>-0.000063</td>\n",
       "      <td>-0.000060</td>\n",
       "      <td>-0.000058</td>\n",
       "      <td>-0.000056</td>\n",
       "      <td>-0.000053</td>\n",
       "      <td>-0.000051</td>\n",
       "      <td>-0.000048</td>\n",
       "    </tr>\n",
       "    <tr>\n",
       "      <th>1</th>\n",
       "      <td>0.000351</td>\n",
       "      <td>0.000353</td>\n",
       "      <td>0.000355</td>\n",
       "      <td>0.000357</td>\n",
       "      <td>0.000358</td>\n",
       "      <td>0.000360</td>\n",
       "      <td>0.000362</td>\n",
       "      <td>0.000364</td>\n",
       "      <td>0.000366</td>\n",
       "      <td>0.000368</td>\n",
       "      <td>...</td>\n",
       "      <td>-0.000041</td>\n",
       "      <td>-0.000038</td>\n",
       "      <td>-0.000036</td>\n",
       "      <td>-0.000034</td>\n",
       "      <td>-0.000031</td>\n",
       "      <td>-0.000029</td>\n",
       "      <td>-0.000026</td>\n",
       "      <td>-0.000024</td>\n",
       "      <td>-0.000022</td>\n",
       "      <td>-0.000019</td>\n",
       "    </tr>\n",
       "    <tr>\n",
       "      <th>2</th>\n",
       "      <td>0.000330</td>\n",
       "      <td>0.000331</td>\n",
       "      <td>0.000333</td>\n",
       "      <td>0.000335</td>\n",
       "      <td>0.000337</td>\n",
       "      <td>0.000339</td>\n",
       "      <td>0.000341</td>\n",
       "      <td>0.000343</td>\n",
       "      <td>0.000344</td>\n",
       "      <td>0.000346</td>\n",
       "      <td>...</td>\n",
       "      <td>-0.000086</td>\n",
       "      <td>-0.000084</td>\n",
       "      <td>-0.000081</td>\n",
       "      <td>-0.000079</td>\n",
       "      <td>-0.000076</td>\n",
       "      <td>-0.000074</td>\n",
       "      <td>-0.000072</td>\n",
       "      <td>-0.000069</td>\n",
       "      <td>-0.000067</td>\n",
       "      <td>-0.000064</td>\n",
       "    </tr>\n",
       "    <tr>\n",
       "      <th>3</th>\n",
       "      <td>0.000300</td>\n",
       "      <td>0.000303</td>\n",
       "      <td>0.000305</td>\n",
       "      <td>0.000307</td>\n",
       "      <td>0.000309</td>\n",
       "      <td>0.000312</td>\n",
       "      <td>0.000314</td>\n",
       "      <td>0.000316</td>\n",
       "      <td>0.000318</td>\n",
       "      <td>0.000320</td>\n",
       "      <td>...</td>\n",
       "      <td>-0.000109</td>\n",
       "      <td>-0.000105</td>\n",
       "      <td>-0.000100</td>\n",
       "      <td>-0.000096</td>\n",
       "      <td>-0.000092</td>\n",
       "      <td>-0.000088</td>\n",
       "      <td>-0.000084</td>\n",
       "      <td>-0.000080</td>\n",
       "      <td>-0.000076</td>\n",
       "      <td>-0.000072</td>\n",
       "    </tr>\n",
       "    <tr>\n",
       "      <th>4</th>\n",
       "      <td>0.000388</td>\n",
       "      <td>0.000390</td>\n",
       "      <td>0.000391</td>\n",
       "      <td>0.000393</td>\n",
       "      <td>0.000395</td>\n",
       "      <td>0.000397</td>\n",
       "      <td>0.000399</td>\n",
       "      <td>0.000401</td>\n",
       "      <td>0.000403</td>\n",
       "      <td>0.000405</td>\n",
       "      <td>...</td>\n",
       "      <td>-0.000076</td>\n",
       "      <td>-0.000074</td>\n",
       "      <td>-0.000072</td>\n",
       "      <td>-0.000070</td>\n",
       "      <td>-0.000067</td>\n",
       "      <td>-0.000065</td>\n",
       "      <td>-0.000063</td>\n",
       "      <td>-0.000061</td>\n",
       "      <td>-0.000059</td>\n",
       "      <td>-0.000057</td>\n",
       "    </tr>\n",
       "  </tbody>\n",
       "</table>\n",
       "<p>5 rows × 4000 columns</p>\n",
       "</div>"
      ],
      "text/plain": [
       "      500.0     500.5     501.0     501.5     502.0     502.5     503.0  \\\n",
       "0  0.000276  0.000278  0.000280  0.000281  0.000283  0.000284  0.000286   \n",
       "1  0.000351  0.000353  0.000355  0.000357  0.000358  0.000360  0.000362   \n",
       "2  0.000330  0.000331  0.000333  0.000335  0.000337  0.000339  0.000341   \n",
       "3  0.000300  0.000303  0.000305  0.000307  0.000309  0.000312  0.000314   \n",
       "4  0.000388  0.000390  0.000391  0.000393  0.000395  0.000397  0.000399   \n",
       "\n",
       "      503.5     504.0     504.5  ...    2495.0    2495.5    2496.0    2496.5  \\\n",
       "0  0.000288  0.000289  0.000291  ... -0.000070 -0.000068 -0.000065 -0.000063   \n",
       "1  0.000364  0.000366  0.000368  ... -0.000041 -0.000038 -0.000036 -0.000034   \n",
       "2  0.000343  0.000344  0.000346  ... -0.000086 -0.000084 -0.000081 -0.000079   \n",
       "3  0.000316  0.000318  0.000320  ... -0.000109 -0.000105 -0.000100 -0.000096   \n",
       "4  0.000401  0.000403  0.000405  ... -0.000076 -0.000074 -0.000072 -0.000070   \n",
       "\n",
       "     2497.0    2497.5    2498.0    2498.5    2499.0    2499.5  \n",
       "0 -0.000060 -0.000058 -0.000056 -0.000053 -0.000051 -0.000048  \n",
       "1 -0.000031 -0.000029 -0.000026 -0.000024 -0.000022 -0.000019  \n",
       "2 -0.000076 -0.000074 -0.000072 -0.000069 -0.000067 -0.000064  \n",
       "3 -0.000092 -0.000088 -0.000084 -0.000080 -0.000076 -0.000072  \n",
       "4 -0.000067 -0.000065 -0.000063 -0.000061 -0.000059 -0.000057  \n",
       "\n",
       "[5 rows x 4000 columns]"
      ]
     },
     "execution_count": 4,
     "metadata": {},
     "output_type": "execute_result"
    }
   ],
   "source": [
    "df_test.head()"
   ]
  },
  {
   "cell_type": "code",
   "execution_count": 5,
   "metadata": {},
   "outputs": [
    {
     "name": "stdout",
     "output_type": "stream",
     "text": [
      "Accuracy:\n",
      "0.7844080846968239\n",
      "Klassifikationsbericht:\n",
      "              precision    recall  f1-score   support\n",
      "\n",
      "        high       0.57      0.51      0.54       136\n",
      "         low       0.36      0.12      0.18       232\n",
      "    moderate       0.46      0.35      0.39       193\n",
      "   very_high       0.71      0.59      0.64        29\n",
      "    very_low       0.85      0.97      0.91      1488\n",
      "\n",
      "    accuracy                           0.78      2078\n",
      "   macro avg       0.59      0.51      0.53      2078\n",
      "weighted avg       0.74      0.78      0.75      2078\n",
      "\n",
      "\n",
      "Top 5 wichtigste Features:\n",
      "     feature  importance\n",
      "3514  2257.0    0.007409\n",
      "3515  2257.5    0.007002\n",
      "3503  2251.5    0.006338\n",
      "3517  2258.5    0.006263\n",
      "3518  2259.0    0.006073\n"
     ]
    }
   ],
   "source": [
    "# Daten vorbereiten\n",
    "X = df_test  # Features\n",
    "y = df_target['x']  # Labels/Zielvariable\n",
    "\n",
    "# Train-Test Split\n",
    "X_train, X_test, y_train, y_test = train_test_split(X, y, test_size=0.21, random_state=42)\n",
    "\n",
    "# Random Forest Modell erstellen und trainieren\n",
    "rf_model = RandomForestClassifier(\n",
    "    n_estimators=100,      # Anzahl der Bäume\n",
    "    max_depth=None,        # Maximale Tiefe der Bäume\n",
    "    random_state=42,       # Für Reproduzierbarkeit\n",
    "    n_jobs=-1              # Nutzt alle verfügbaren CPU-Kerne\n",
    ")\n",
    "\n",
    "# Modell trainieren\n",
    "rf_model.fit(X_train, y_train)\n",
    "\n",
    "# Vorhersagen machen\n",
    "predictions = rf_model.predict(X_test)\n",
    "\n",
    "# Modell evaluieren\n",
    "print(\"Accuracy:\")\n",
    "print(accuracy_score(y_test, predictions))\n",
    "\n",
    "print(\"Klassifikationsbericht:\")\n",
    "print(classification_report(y_test, predictions))\n",
    "\n",
    "# Feature Importance analysieren\n",
    "feature_importance = pd.DataFrame({\n",
    "    'feature': X.columns,\n",
    "    'importance': rf_model.feature_importances_\n",
    "})\n",
    "feature_importance = feature_importance.sort_values('importance', ascending=False)\n",
    "print(\"\\nTop 5 wichtigste Features:\")\n",
    "print(feature_importance.head(5))"
   ]
  },
  {
   "cell_type": "code",
   "execution_count": 6,
   "metadata": {},
   "outputs": [
    {
     "data": {
      "text/plain": [
       "'# Optimierung #1\\n\\nparam_grid = {\\n    \\'n_estimators\\': [100, 200],\\n    \\'max_depth\\': [10, None],\\n    \\'min_samples_split\\': [2, 5],\\n    \\'min_samples_leaf\\': [2, 4]\\n}\\n\\ngrid_search = GridSearchCV(\\n    RandomForestClassifier(random_state=42),\\n    param_grid,\\n    cv=5,\\n    n_jobs=-1\\n)\\n\\ngrid_search.fit(X, y)\\nprint(\"Beste Parameter:\", grid_search.best_params_)'"
      ]
     },
     "execution_count": 6,
     "metadata": {},
     "output_type": "execute_result"
    }
   ],
   "source": [
    "'''# Optimierung #1\n",
    "\n",
    "param_grid = {\n",
    "    'n_estimators': [100, 200],\n",
    "    'max_depth': [10, None],\n",
    "    'min_samples_split': [2, 5],\n",
    "    'min_samples_leaf': [2, 4]\n",
    "}\n",
    "\n",
    "grid_search = GridSearchCV(\n",
    "    RandomForestClassifier(random_state=42),\n",
    "    param_grid,\n",
    "    cv=5,\n",
    "    n_jobs=-1\n",
    ")\n",
    "\n",
    "grid_search.fit(X, y)\n",
    "print(\"Beste Parameter:\", grid_search.best_params_)'''"
   ]
  },
  {
   "cell_type": "code",
   "execution_count": 7,
   "metadata": {},
   "outputs": [
    {
     "data": {
      "text/plain": [
       "'# Optimierung #2\\n\\nscores = cross_val_score(rf_model, X, y, cv=5)\\nprint(\"Kreuzvalidierung Scores:\", scores)\\nprint(\"Durchschnittliche Genauigkeit: %0.2f (+/- %0.2f)\" % (scores.mean(), scores.std() * 2))'"
      ]
     },
     "execution_count": 7,
     "metadata": {},
     "output_type": "execute_result"
    }
   ],
   "source": [
    "'''# Optimierung #2\n",
    "\n",
    "scores = cross_val_score(rf_model, X, y, cv=5)\n",
    "print(\"Kreuzvalidierung Scores:\", scores)\n",
    "print(\"Durchschnittliche Genauigkeit: %0.2f (+/- %0.2f)\" % (scores.mean(), scores.std() * 2))'''"
   ]
  },
  {
   "cell_type": "markdown",
   "metadata": {},
   "source": [
    "# Ü2"
   ]
  },
  {
   "cell_type": "code",
   "execution_count": 8,
   "metadata": {},
   "outputs": [
    {
     "data": {
      "text/html": [
       "<div>\n",
       "<style scoped>\n",
       "    .dataframe tbody tr th:only-of-type {\n",
       "        vertical-align: middle;\n",
       "    }\n",
       "\n",
       "    .dataframe tbody tr th {\n",
       "        vertical-align: top;\n",
       "    }\n",
       "\n",
       "    .dataframe thead th {\n",
       "        text-align: right;\n",
       "    }\n",
       "</style>\n",
       "<table border=\"1\" class=\"dataframe\">\n",
       "  <thead>\n",
       "    <tr style=\"text-align: right;\">\n",
       "      <th></th>\n",
       "      <th>500.0</th>\n",
       "      <th>500.5</th>\n",
       "      <th>501.0</th>\n",
       "      <th>501.5</th>\n",
       "      <th>502.0</th>\n",
       "      <th>502.5</th>\n",
       "      <th>503.0</th>\n",
       "      <th>503.5</th>\n",
       "      <th>504.0</th>\n",
       "      <th>504.5</th>\n",
       "      <th>...</th>\n",
       "      <th>2495.0</th>\n",
       "      <th>2495.5</th>\n",
       "      <th>2496.0</th>\n",
       "      <th>2496.5</th>\n",
       "      <th>2497.0</th>\n",
       "      <th>2497.5</th>\n",
       "      <th>2498.0</th>\n",
       "      <th>2498.5</th>\n",
       "      <th>2499.0</th>\n",
       "      <th>2499.5</th>\n",
       "    </tr>\n",
       "  </thead>\n",
       "  <tbody>\n",
       "    <tr>\n",
       "      <th>0</th>\n",
       "      <td>0.000475</td>\n",
       "      <td>0.000261</td>\n",
       "      <td>0.000528</td>\n",
       "      <td>0.000639</td>\n",
       "      <td>0.000335</td>\n",
       "      <td>0.000423</td>\n",
       "      <td>0.000904</td>\n",
       "      <td>0.000758</td>\n",
       "      <td>0.000511</td>\n",
       "      <td>0.000413</td>\n",
       "      <td>...</td>\n",
       "      <td>0.000274</td>\n",
       "      <td>0.000158</td>\n",
       "      <td>0.00023</td>\n",
       "      <td>0.00024</td>\n",
       "      <td>0.000226</td>\n",
       "      <td>0.000194</td>\n",
       "      <td>0.000266</td>\n",
       "      <td>0.00017</td>\n",
       "      <td>0.000271</td>\n",
       "      <td>0.000219</td>\n",
       "    </tr>\n",
       "  </tbody>\n",
       "</table>\n",
       "<p>1 rows × 4000 columns</p>\n",
       "</div>"
      ],
      "text/plain": [
       "      500.0     500.5     501.0     501.5     502.0     502.5     503.0  \\\n",
       "0  0.000475  0.000261  0.000528  0.000639  0.000335  0.000423  0.000904   \n",
       "\n",
       "      503.5     504.0     504.5  ...    2495.0    2495.5   2496.0   2496.5  \\\n",
       "0  0.000758  0.000511  0.000413  ...  0.000274  0.000158  0.00023  0.00024   \n",
       "\n",
       "     2497.0    2497.5    2498.0   2498.5    2499.0    2499.5  \n",
       "0  0.000226  0.000194  0.000266  0.00017  0.000271  0.000219  \n",
       "\n",
       "[1 rows x 4000 columns]"
      ]
     },
     "execution_count": 8,
     "metadata": {},
     "output_type": "execute_result"
    }
   ],
   "source": [
    "importances = rf_model.feature_importances_\n",
    "feature_name = X.columns\n",
    "\n",
    "importance_df = pd.DataFrame(importances.reshape(1, -1), columns=feature_name)\n",
    "importance_df"
   ]
  },
  {
   "cell_type": "code",
   "execution_count": 9,
   "metadata": {},
   "outputs": [
    {
     "data": {
      "image/png": "[encoded data removed]",
      "text/plain": [
       "<Figure size 1000x100 with 1 Axes>"
      ]
     },
     "metadata": {},
     "output_type": "display_data"
    }
   ],
   "source": [
    "plt.figure(figsize=(10, 1))\n",
    "sns.heatmap(importance_df, annot=True, cmap='viridis', cbar=False)\n",
    "plt.title('Feature Importances Heatmap')\n",
    "plt.show()"
   ]
  },
  {
   "cell_type": "code",
   "execution_count": 10,
   "metadata": {},
   "outputs": [
    {
     "data": {
      "image/png": "[encoded data removed]",
      "text/plain": [
       "<Figure size 1000x800 with 2 Axes>"
      ]
     },
     "metadata": {},
     "output_type": "display_data"
    },
    {
     "name": "stdout",
     "output_type": "stream",
     "text": [
      "\n",
      "Am häufigsten verwechselte Klassenpaare:\n",
      "Tatsächliche Klasse 1 wird oft als Klasse 4 fehlklassifiziert: 167 mal\n",
      "Tatsächliche Klasse 2 wird oft als Klasse 4 fehlklassifiziert: 76 mal\n",
      "Tatsächliche Klasse 0 wird oft als Klasse 2 fehlklassifiziert: 39 mal\n",
      "Tatsächliche Klasse 1 wird oft als Klasse 2 fehlklassifiziert: 28 mal\n",
      "Tatsächliche Klasse 2 wird oft als Klasse 0 fehlklassifiziert: 26 mal\n"
     ]
    }
   ],
   "source": [
    "def analyze_misclassifications(y_test, predictions):\n",
    "    # Generiere Konfusionsmatrix\n",
    "    cm = confusion_matrix(y_test, predictions)\n",
    "    \n",
    "    # Visualisierung\n",
    "    plt.figure(figsize=(10,8))\n",
    "    sns.heatmap(cm, annot=True, fmt='d', cmap='Blues')\n",
    "    plt.title('Konfusionsmatrix Heatmap')\n",
    "    plt.ylabel('Tatsächliche Klasse')\n",
    "    plt.xlabel('Vorhergesagte Klasse')\n",
    "    plt.show()\n",
    "    \n",
    "    # Detaillierter Klassifikationsbericht\n",
    "    #print(classification_report(y_test, predictions))\n",
    "    \n",
    "    # Identifiziere am häufigsten verwechselte Klassenpaare\n",
    "    def find_most_confused_classes(cm):\n",
    "        n_classes = cm.shape[0]\n",
    "        most_confused = []\n",
    "        for i in range(n_classes):\n",
    "            for j in range(n_classes):\n",
    "                if i != j:\n",
    "                    most_confused.append((i, j, cm[i, j]))\n",
    "        \n",
    "        # Sortiere nach Häufigkeit der Fehlklassifikation\n",
    "        return sorted(most_confused, key=lambda x: x[2], reverse=True)[:5]\n",
    "    \n",
    "    print(\"\\nAm häufigsten verwechselte Klassenpaare:\")\n",
    "    confused_pairs = find_most_confused_classes(cm)\n",
    "    for true_class, pred_class, count in confused_pairs:\n",
    "        print(f\"Tatsächliche Klasse {true_class} wird oft als Klasse {pred_class} fehlklassifiziert: {count} mal\")\n",
    "\n",
    "# Rufe die Funktion mit deinen Variablen auf\n",
    "analyze_misclassifications(y_test, predictions)"
   ]
  },
  {
   "cell_type": "code",
   "execution_count": null,
   "metadata": {},
   "outputs": [],
   "source": [
    "# test"
   ]
  }
 ],
 "metadata": {
  "kernelspec": {
   "display_name": "nlpcourse",
   "language": "python",
   "name": "python3"
  },
  "language_info": {
   "codemirror_mode": {
    "name": "ipython",
    "version": 3
   },
   "file_extension": ".py",
   "mimetype": "text/x-python",
   "name": "python",
   "nbconvert_exporter": "python",
   "pygments_lexer": "ipython3",
   "version": "3.9.19"
  }
 },
 "nbformat": 4,
 "nbformat_minor": 2
}
